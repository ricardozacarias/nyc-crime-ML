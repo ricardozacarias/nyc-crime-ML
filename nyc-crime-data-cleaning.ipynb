{
 "cells": [
  {
   "cell_type": "markdown",
   "metadata": {},
   "source": [
    "# NYC Crime Data Cleaning\n",
    "- Subselecting columns of the initial large file\n",
    "- Remove nans, clean datetimes and save to a new file for analysis."
   ]
  },
  {
   "cell_type": "code",
   "execution_count": 18,
   "metadata": {},
   "outputs": [],
   "source": [
    "import pandas as pd\n",
    "import datetime as dt"
   ]
  },
  {
   "cell_type": "code",
   "execution_count": 19,
   "metadata": {},
   "outputs": [],
   "source": [
    "path = 'C:/Users/Zaca/Documents/Datasets/nyc/'"
   ]
  },
  {
   "cell_type": "code",
   "execution_count": 20,
   "metadata": {},
   "outputs": [
    {
     "data": {
      "text/html": [
       "<div>\n",
       "<style scoped>\n",
       "    .dataframe tbody tr th:only-of-type {\n",
       "        vertical-align: middle;\n",
       "    }\n",
       "\n",
       "    .dataframe tbody tr th {\n",
       "        vertical-align: top;\n",
       "    }\n",
       "\n",
       "    .dataframe thead th {\n",
       "        text-align: right;\n",
       "    }\n",
       "</style>\n",
       "<table border=\"1\" class=\"dataframe\">\n",
       "  <thead>\n",
       "    <tr style=\"text-align: right;\">\n",
       "      <th></th>\n",
       "      <th>name</th>\n",
       "      <th>description</th>\n",
       "      <th>rename</th>\n",
       "    </tr>\n",
       "  </thead>\n",
       "  <tbody>\n",
       "    <tr>\n",
       "      <td>0</td>\n",
       "      <td>CMPLNT_FR_DT</td>\n",
       "      <td>Exact date of occurrence for the reported event</td>\n",
       "      <td>date</td>\n",
       "    </tr>\n",
       "    <tr>\n",
       "      <td>1</td>\n",
       "      <td>CMPLNT_FR_TM</td>\n",
       "      <td>Exact time of occurrence for the reported event</td>\n",
       "      <td>time</td>\n",
       "    </tr>\n",
       "    <tr>\n",
       "      <td>2</td>\n",
       "      <td>ADDR_PCT_CD</td>\n",
       "      <td>The precinct in which the incident occurred</td>\n",
       "      <td>precinct</td>\n",
       "    </tr>\n",
       "    <tr>\n",
       "      <td>3</td>\n",
       "      <td>KY_CD</td>\n",
       "      <td>Three digit offense classification code</td>\n",
       "      <td>class_code</td>\n",
       "    </tr>\n",
       "    <tr>\n",
       "      <td>4</td>\n",
       "      <td>OFNS_DESC</td>\n",
       "      <td>Description of offense corresponding with key ...</td>\n",
       "      <td>description</td>\n",
       "    </tr>\n",
       "    <tr>\n",
       "      <td>5</td>\n",
       "      <td>LAW_CAT_CD</td>\n",
       "      <td>Level of offense: felony misdemeanor violation</td>\n",
       "      <td>level</td>\n",
       "    </tr>\n",
       "    <tr>\n",
       "      <td>6</td>\n",
       "      <td>BORO_NM</td>\n",
       "      <td>The name of the borough in which the incident ...</td>\n",
       "      <td>borough</td>\n",
       "    </tr>\n",
       "    <tr>\n",
       "      <td>7</td>\n",
       "      <td>PREM_TYP_DESC</td>\n",
       "      <td>Specific description of premises (grocery stor...</td>\n",
       "      <td>premises</td>\n",
       "    </tr>\n",
       "    <tr>\n",
       "      <td>8</td>\n",
       "      <td>Lat_Lon</td>\n",
       "      <td>Geospatial Location Point (latitude and Longit...</td>\n",
       "      <td>geo</td>\n",
       "    </tr>\n",
       "  </tbody>\n",
       "</table>\n",
       "</div>"
      ],
      "text/plain": [
       "            name                                        description  \\\n",
       "0   CMPLNT_FR_DT    Exact date of occurrence for the reported event   \n",
       "1   CMPLNT_FR_TM    Exact time of occurrence for the reported event   \n",
       "2    ADDR_PCT_CD        The precinct in which the incident occurred   \n",
       "3          KY_CD            Three digit offense classification code   \n",
       "4      OFNS_DESC  Description of offense corresponding with key ...   \n",
       "5     LAW_CAT_CD     Level of offense: felony misdemeanor violation   \n",
       "6        BORO_NM  The name of the borough in which the incident ...   \n",
       "7  PREM_TYP_DESC  Specific description of premises (grocery stor...   \n",
       "8        Lat_Lon  Geospatial Location Point (latitude and Longit...   \n",
       "\n",
       "        rename  \n",
       "0         date  \n",
       "1         time  \n",
       "2     precinct  \n",
       "3   class_code  \n",
       "4  description  \n",
       "5        level  \n",
       "6      borough  \n",
       "7     premises  \n",
       "8          geo  "
      ]
     },
     "execution_count": 20,
     "metadata": {},
     "output_type": "execute_result"
    }
   ],
   "source": [
    "# To save memory:\n",
    "# I have already pre-preared a text file containing the columns I think are most relevant.\n",
    "selected_cols = pd.read_csv(path + 'crime_selected_cols.txt')\n",
    "selected_cols"
   ]
  },
  {
   "cell_type": "code",
   "execution_count": 47,
   "metadata": {
    "scrolled": true
   },
   "outputs": [],
   "source": [
    "crime = pd.read_csv(path + 'nypd_historic.csv', usecols=selected_cols['name'])"
   ]
  },
  {
   "cell_type": "code",
   "execution_count": 48,
   "metadata": {},
   "outputs": [
    {
     "data": {
      "text/html": [
       "<div>\n",
       "<style scoped>\n",
       "    .dataframe tbody tr th:only-of-type {\n",
       "        vertical-align: middle;\n",
       "    }\n",
       "\n",
       "    .dataframe tbody tr th {\n",
       "        vertical-align: top;\n",
       "    }\n",
       "\n",
       "    .dataframe thead th {\n",
       "        text-align: right;\n",
       "    }\n",
       "</style>\n",
       "<table border=\"1\" class=\"dataframe\">\n",
       "  <thead>\n",
       "    <tr style=\"text-align: right;\">\n",
       "      <th></th>\n",
       "      <th>CMPLNT_FR_DT</th>\n",
       "      <th>CMPLNT_FR_TM</th>\n",
       "      <th>ADDR_PCT_CD</th>\n",
       "      <th>KY_CD</th>\n",
       "      <th>OFNS_DESC</th>\n",
       "      <th>LAW_CAT_CD</th>\n",
       "      <th>BORO_NM</th>\n",
       "      <th>PREM_TYP_DESC</th>\n",
       "      <th>Lat_Lon</th>\n",
       "    </tr>\n",
       "  </thead>\n",
       "  <tbody>\n",
       "    <tr>\n",
       "      <td>0</td>\n",
       "      <td>04/10/2008</td>\n",
       "      <td>19:10:00</td>\n",
       "      <td>73.0</td>\n",
       "      <td>341</td>\n",
       "      <td>PETIT LARCENY</td>\n",
       "      <td>MISDEMEANOR</td>\n",
       "      <td>BROOKLYN</td>\n",
       "      <td>STREET</td>\n",
       "      <td>(40.669413836, -73.91260308)</td>\n",
       "    </tr>\n",
       "    <tr>\n",
       "      <td>1</td>\n",
       "      <td>06/03/2007</td>\n",
       "      <td>15:23:00</td>\n",
       "      <td>28.0</td>\n",
       "      <td>236</td>\n",
       "      <td>DANGEROUS WEAPONS</td>\n",
       "      <td>MISDEMEANOR</td>\n",
       "      <td>MANHATTAN</td>\n",
       "      <td>STREET</td>\n",
       "      <td>(40.801978284, -73.945511151)</td>\n",
       "    </tr>\n",
       "    <tr>\n",
       "      <td>2</td>\n",
       "      <td>02/16/2010</td>\n",
       "      <td>20:50:00</td>\n",
       "      <td>102.0</td>\n",
       "      <td>105</td>\n",
       "      <td>ROBBERY</td>\n",
       "      <td>FELONY</td>\n",
       "      <td>QUEENS</td>\n",
       "      <td>GROCERY/BODEGA</td>\n",
       "      <td>(40.699990268, -73.830977746)</td>\n",
       "    </tr>\n",
       "    <tr>\n",
       "      <td>3</td>\n",
       "      <td>11/10/2009</td>\n",
       "      <td>16:35:00</td>\n",
       "      <td>79.0</td>\n",
       "      <td>341</td>\n",
       "      <td>PETIT LARCENY</td>\n",
       "      <td>MISDEMEANOR</td>\n",
       "      <td>BROOKLYN</td>\n",
       "      <td>FOOD SUPERMARKET</td>\n",
       "      <td>(40.681004729, -73.955034577)</td>\n",
       "    </tr>\n",
       "    <tr>\n",
       "      <td>4</td>\n",
       "      <td>04/11/2006</td>\n",
       "      <td>09:30:00</td>\n",
       "      <td>123.0</td>\n",
       "      <td>112</td>\n",
       "      <td>THEFT-FRAUD</td>\n",
       "      <td>FELONY</td>\n",
       "      <td>STATEN ISLAND</td>\n",
       "      <td>COMMERCIAL BUILDING</td>\n",
       "      <td>NaN</td>\n",
       "    </tr>\n",
       "    <tr>\n",
       "      <td>...</td>\n",
       "      <td>...</td>\n",
       "      <td>...</td>\n",
       "      <td>...</td>\n",
       "      <td>...</td>\n",
       "      <td>...</td>\n",
       "      <td>...</td>\n",
       "      <td>...</td>\n",
       "      <td>...</td>\n",
       "      <td>...</td>\n",
       "    </tr>\n",
       "    <tr>\n",
       "      <td>6847939</td>\n",
       "      <td>08/23/2015</td>\n",
       "      <td>02:00:00</td>\n",
       "      <td>75.0</td>\n",
       "      <td>340</td>\n",
       "      <td>FRAUDS</td>\n",
       "      <td>MISDEMEANOR</td>\n",
       "      <td>BROOKLYN</td>\n",
       "      <td>STREET</td>\n",
       "      <td>(40.672269995, -73.875569231)</td>\n",
       "    </tr>\n",
       "    <tr>\n",
       "      <td>6847940</td>\n",
       "      <td>06/15/2013</td>\n",
       "      <td>11:30:00</td>\n",
       "      <td>32.0</td>\n",
       "      <td>578</td>\n",
       "      <td>HARRASSMENT 2</td>\n",
       "      <td>VIOLATION</td>\n",
       "      <td>MANHATTAN</td>\n",
       "      <td>RESIDENCE - PUBLIC HOUSING</td>\n",
       "      <td>(40.829882139, -73.9367581)</td>\n",
       "    </tr>\n",
       "    <tr>\n",
       "      <td>6847941</td>\n",
       "      <td>07/12/2012</td>\n",
       "      <td>14:00:00</td>\n",
       "      <td>49.0</td>\n",
       "      <td>106</td>\n",
       "      <td>FELONY ASSAULT</td>\n",
       "      <td>FELONY</td>\n",
       "      <td>BRONX</td>\n",
       "      <td>STREET</td>\n",
       "      <td>(40.846592354, -73.852913364)</td>\n",
       "    </tr>\n",
       "    <tr>\n",
       "      <td>6847942</td>\n",
       "      <td>04/15/2012</td>\n",
       "      <td>19:00:00</td>\n",
       "      <td>112.0</td>\n",
       "      <td>341</td>\n",
       "      <td>PETIT LARCENY</td>\n",
       "      <td>MISDEMEANOR</td>\n",
       "      <td>QUEENS</td>\n",
       "      <td>STREET</td>\n",
       "      <td>(40.728720422, -73.853512684)</td>\n",
       "    </tr>\n",
       "    <tr>\n",
       "      <td>6847943</td>\n",
       "      <td>05/08/2015</td>\n",
       "      <td>01:00:00</td>\n",
       "      <td>102.0</td>\n",
       "      <td>351</td>\n",
       "      <td>CRIMINAL MISCHIEF &amp; RELATED OF</td>\n",
       "      <td>MISDEMEANOR</td>\n",
       "      <td>QUEENS</td>\n",
       "      <td>STREET</td>\n",
       "      <td>(40.68923269, -73.840012494)</td>\n",
       "    </tr>\n",
       "  </tbody>\n",
       "</table>\n",
       "<p>6847944 rows × 9 columns</p>\n",
       "</div>"
      ],
      "text/plain": [
       "        CMPLNT_FR_DT CMPLNT_FR_TM  ADDR_PCT_CD  KY_CD  \\\n",
       "0         04/10/2008     19:10:00         73.0    341   \n",
       "1         06/03/2007     15:23:00         28.0    236   \n",
       "2         02/16/2010     20:50:00        102.0    105   \n",
       "3         11/10/2009     16:35:00         79.0    341   \n",
       "4         04/11/2006     09:30:00        123.0    112   \n",
       "...              ...          ...          ...    ...   \n",
       "6847939   08/23/2015     02:00:00         75.0    340   \n",
       "6847940   06/15/2013     11:30:00         32.0    578   \n",
       "6847941   07/12/2012     14:00:00         49.0    106   \n",
       "6847942   04/15/2012     19:00:00        112.0    341   \n",
       "6847943   05/08/2015     01:00:00        102.0    351   \n",
       "\n",
       "                              OFNS_DESC   LAW_CAT_CD        BORO_NM  \\\n",
       "0                         PETIT LARCENY  MISDEMEANOR       BROOKLYN   \n",
       "1                     DANGEROUS WEAPONS  MISDEMEANOR      MANHATTAN   \n",
       "2                               ROBBERY       FELONY         QUEENS   \n",
       "3                         PETIT LARCENY  MISDEMEANOR       BROOKLYN   \n",
       "4                           THEFT-FRAUD       FELONY  STATEN ISLAND   \n",
       "...                                 ...          ...            ...   \n",
       "6847939                          FRAUDS  MISDEMEANOR       BROOKLYN   \n",
       "6847940                   HARRASSMENT 2    VIOLATION      MANHATTAN   \n",
       "6847941                  FELONY ASSAULT       FELONY          BRONX   \n",
       "6847942                   PETIT LARCENY  MISDEMEANOR         QUEENS   \n",
       "6847943  CRIMINAL MISCHIEF & RELATED OF  MISDEMEANOR         QUEENS   \n",
       "\n",
       "                      PREM_TYP_DESC                        Lat_Lon  \n",
       "0                            STREET   (40.669413836, -73.91260308)  \n",
       "1                            STREET  (40.801978284, -73.945511151)  \n",
       "2                    GROCERY/BODEGA  (40.699990268, -73.830977746)  \n",
       "3                  FOOD SUPERMARKET  (40.681004729, -73.955034577)  \n",
       "4               COMMERCIAL BUILDING                            NaN  \n",
       "...                             ...                            ...  \n",
       "6847939                      STREET  (40.672269995, -73.875569231)  \n",
       "6847940  RESIDENCE - PUBLIC HOUSING    (40.829882139, -73.9367581)  \n",
       "6847941                      STREET  (40.846592354, -73.852913364)  \n",
       "6847942                      STREET  (40.728720422, -73.853512684)  \n",
       "6847943                      STREET   (40.68923269, -73.840012494)  \n",
       "\n",
       "[6847944 rows x 9 columns]"
      ]
     },
     "execution_count": 48,
     "metadata": {},
     "output_type": "execute_result"
    }
   ],
   "source": [
    "crime"
   ]
  },
  {
   "cell_type": "code",
   "execution_count": 49,
   "metadata": {},
   "outputs": [],
   "source": [
    "# change column names\n",
    "crime.columns = selected_cols['rename']"
   ]
  },
  {
   "cell_type": "code",
   "execution_count": 50,
   "metadata": {},
   "outputs": [
    {
     "data": {
      "text/plain": [
       "(6847944, 9)"
      ]
     },
     "execution_count": 50,
     "metadata": {},
     "output_type": "execute_result"
    }
   ],
   "source": [
    "# re-checking the size of our dataset\n",
    "crime.shape"
   ]
  },
  {
   "cell_type": "code",
   "execution_count": 51,
   "metadata": {},
   "outputs": [
    {
     "data": {
      "text/plain": [
       "rename\n",
       "date            object\n",
       "time            object\n",
       "precinct       float64\n",
       "class_code       int64\n",
       "description     object\n",
       "level           object\n",
       "borough         object\n",
       "premises        object\n",
       "geo             object\n",
       "dtype: object"
      ]
     },
     "execution_count": 51,
     "metadata": {},
     "output_type": "execute_result"
    }
   ],
   "source": [
    "# look at dtypes\n",
    "crime.dtypes"
   ]
  },
  {
   "cell_type": "code",
   "execution_count": 52,
   "metadata": {},
   "outputs": [],
   "source": [
    "# change to appropriate dtypes\n",
    "crime.date = pd.to_datetime(crime.date, errors='coerce')"
   ]
  },
  {
   "cell_type": "code",
   "execution_count": 53,
   "metadata": {},
   "outputs": [],
   "source": [
    "crime.time = pd.to_datetime(crime.time, errors='coerce').dt.hour"
   ]
  },
  {
   "cell_type": "code",
   "execution_count": 54,
   "metadata": {},
   "outputs": [],
   "source": [
    "# I have tons of data, might as well just drop nas.\n",
    "crime.isna().sum()\n",
    "crime.dropna(inplace=True)"
   ]
  },
  {
   "cell_type": "code",
   "execution_count": 55,
   "metadata": {},
   "outputs": [],
   "source": [
    "# change time to int\n",
    "crime.time = crime.time.astype('int64')"
   ]
  },
  {
   "cell_type": "code",
   "execution_count": 56,
   "metadata": {},
   "outputs": [],
   "source": [
    "# clean / filter data by complete years\n",
    "crime = crime[(crime.date > '01-01-2007') & (crime.date < '01-01-2019')]"
   ]
  },
  {
   "cell_type": "code",
   "execution_count": 57,
   "metadata": {},
   "outputs": [
    {
     "name": "stderr",
     "output_type": "stream",
     "text": [
      "C:\\Users\\Zaca\\Anaconda3\\lib\\site-packages\\ipykernel_launcher.py:2: SettingWithCopyWarning: \n",
      "A value is trying to be set on a copy of a slice from a DataFrame.\n",
      "Try using .loc[row_indexer,col_indexer] = value instead\n",
      "\n",
      "See the caveats in the documentation: http://pandas.pydata.org/pandas-docs/stable/user_guide/indexing.html#returning-a-view-versus-a-copy\n",
      "  \n"
     ]
    }
   ],
   "source": [
    "# transform precinct column to int\n",
    "crime['precinct'] = crime.precinct.astype('int64')"
   ]
  },
  {
   "cell_type": "code",
   "execution_count": 58,
   "metadata": {},
   "outputs": [
    {
     "name": "stderr",
     "output_type": "stream",
     "text": [
      "C:\\Users\\Zaca\\Anaconda3\\lib\\site-packages\\ipykernel_launcher.py:2: SettingWithCopyWarning: \n",
      "A value is trying to be set on a copy of a slice from a DataFrame.\n",
      "Try using .loc[row_indexer,col_indexer] = value instead\n",
      "\n",
      "See the caveats in the documentation: http://pandas.pydata.org/pandas-docs/stable/user_guide/indexing.html#returning-a-view-versus-a-copy\n",
      "  \n",
      "C:\\Users\\Zaca\\Anaconda3\\lib\\site-packages\\ipykernel_launcher.py:3: SettingWithCopyWarning: \n",
      "A value is trying to be set on a copy of a slice from a DataFrame.\n",
      "Try using .loc[row_indexer,col_indexer] = value instead\n",
      "\n",
      "See the caveats in the documentation: http://pandas.pydata.org/pandas-docs/stable/user_guide/indexing.html#returning-a-view-versus-a-copy\n",
      "  This is separate from the ipykernel package so we can avoid doing imports until\n",
      "C:\\Users\\Zaca\\Anaconda3\\lib\\site-packages\\ipykernel_launcher.py:4: SettingWithCopyWarning: \n",
      "A value is trying to be set on a copy of a slice from a DataFrame.\n",
      "Try using .loc[row_indexer,col_indexer] = value instead\n",
      "\n",
      "See the caveats in the documentation: http://pandas.pydata.org/pandas-docs/stable/user_guide/indexing.html#returning-a-view-versus-a-copy\n",
      "  after removing the cwd from sys.path.\n"
     ]
    }
   ],
   "source": [
    "# transform geolocations from string to float\n",
    "crime['geoloc'] = crime['geo'].str.replace('(','').str.replace(')', '').str.split(', ')\n",
    "crime['latitude'] = crime['geoloc'].apply(lambda x: x[0]).astype('float64')\n",
    "crime['longitude'] = crime['geoloc'].apply(lambda x: x[1]).astype('float64')\n"
   ]
  },
  {
   "cell_type": "code",
   "execution_count": 59,
   "metadata": {},
   "outputs": [
    {
     "name": "stderr",
     "output_type": "stream",
     "text": [
      "C:\\Users\\Zaca\\Anaconda3\\lib\\site-packages\\pandas\\core\\frame.py:4102: SettingWithCopyWarning: \n",
      "A value is trying to be set on a copy of a slice from a DataFrame\n",
      "\n",
      "See the caveats in the documentation: http://pandas.pydata.org/pandas-docs/stable/user_guide/indexing.html#returning-a-view-versus-a-copy\n",
      "  errors=errors,\n"
     ]
    }
   ],
   "source": [
    "# drop columns no longer needed\n",
    "crime.drop(labels=['geo', 'geoloc'], axis=1, inplace=True)"
   ]
  },
  {
   "cell_type": "code",
   "execution_count": 61,
   "metadata": {},
   "outputs": [],
   "source": [
    "# save to file\n",
    "crime.to_csv(path + 'nypd_historic_07-18.csv')"
   ]
  }
 ],
 "metadata": {
  "kernelspec": {
   "display_name": "Python 3",
   "language": "python",
   "name": "python3"
  },
  "language_info": {
   "codemirror_mode": {
    "name": "ipython",
    "version": 3
   },
   "file_extension": ".py",
   "mimetype": "text/x-python",
   "name": "python",
   "nbconvert_exporter": "python",
   "pygments_lexer": "ipython3",
   "version": "3.7.7"
  }
 },
 "nbformat": 4,
 "nbformat_minor": 2
}
